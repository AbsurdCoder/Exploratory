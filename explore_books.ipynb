{
 "cells": [
  {
   "cell_type": "code",
   "execution_count": 1,
   "id": "148a463d",
   "metadata": {
    "execution": {
     "iopub.execute_input": "2023-03-29T18:23:07.985847Z",
     "iopub.status.busy": "2023-03-29T18:23:07.985421Z",
     "iopub.status.idle": "2023-03-29T18:23:08.015586Z",
     "shell.execute_reply": "2023-03-29T18:23:08.014246Z"
    },
    "papermill": {
     "duration": 0.045969,
     "end_time": "2023-03-29T18:23:08.019111",
     "exception": false,
     "start_time": "2023-03-29T18:23:07.973142",
     "status": "completed"
    },
    "tags": []
   },
   "outputs": [
    {
     "name": "stdout",
     "output_type": "stream",
     "text": [
      "/kaggle/input/amazon-top-50-bestselling-books-2009-2019/bestsellers with categories.csv\n"
     ]
    }
   ],
   "source": [
    "import numpy as np # linear algebra\n",
    "import pandas as pd # data processing, CSV file I/O (e.g. pd.read_csv)\n",
    "\n",
    "import os\n",
    "for dirname, _, filenames in os.walk('/kaggle/input'):\n",
    "    for filename in filenames:\n",
    "        print(os.path.join(dirname, filename))"
   ]
  },
  {
   "cell_type": "code",
   "execution_count": 2,
   "id": "503ff8bc",
   "metadata": {
    "execution": {
     "iopub.execute_input": "2023-03-29T18:23:08.037459Z",
     "iopub.status.busy": "2023-03-29T18:23:08.036822Z",
     "iopub.status.idle": "2023-03-29T18:23:08.063492Z",
     "shell.execute_reply": "2023-03-29T18:23:08.061278Z"
    },
    "papermill": {
     "duration": 0.040131,
     "end_time": "2023-03-29T18:23:08.066615",
     "exception": false,
     "start_time": "2023-03-29T18:23:08.026484",
     "status": "completed"
    },
    "tags": []
   },
   "outputs": [],
   "source": [
    "data = pd.read_csv('/kaggle/input/amazon-top-50-bestselling-books-2009-2019/bestsellers with categories.csv')"
   ]
  },
  {
   "cell_type": "code",
   "execution_count": 3,
   "id": "f233df76",
   "metadata": {
    "execution": {
     "iopub.execute_input": "2023-03-29T18:23:08.083679Z",
     "iopub.status.busy": "2023-03-29T18:23:08.083024Z",
     "iopub.status.idle": "2023-03-29T18:23:08.128607Z",
     "shell.execute_reply": "2023-03-29T18:23:08.127113Z"
    },
    "papermill": {
     "duration": 0.058671,
     "end_time": "2023-03-29T18:23:08.132312",
     "exception": false,
     "start_time": "2023-03-29T18:23:08.073641",
     "status": "completed"
    },
    "tags": []
   },
   "outputs": [
    {
     "data": {
      "text/html": [
       "<div>\n",
       "<style scoped>\n",
       "    .dataframe tbody tr th:only-of-type {\n",
       "        vertical-align: middle;\n",
       "    }\n",
       "\n",
       "    .dataframe tbody tr th {\n",
       "        vertical-align: top;\n",
       "    }\n",
       "\n",
       "    .dataframe thead th {\n",
       "        text-align: right;\n",
       "    }\n",
       "</style>\n",
       "<table border=\"1\" class=\"dataframe\">\n",
       "  <thead>\n",
       "    <tr style=\"text-align: right;\">\n",
       "      <th></th>\n",
       "      <th>Name</th>\n",
       "      <th>Author</th>\n",
       "      <th>User Rating</th>\n",
       "      <th>Reviews</th>\n",
       "      <th>Price</th>\n",
       "      <th>Year</th>\n",
       "      <th>Genre</th>\n",
       "    </tr>\n",
       "  </thead>\n",
       "  <tbody>\n",
       "    <tr>\n",
       "      <th>0</th>\n",
       "      <td>10-Day Green Smoothie Cleanse</td>\n",
       "      <td>JJ Smith</td>\n",
       "      <td>4.7</td>\n",
       "      <td>17350</td>\n",
       "      <td>8</td>\n",
       "      <td>2016</td>\n",
       "      <td>Non Fiction</td>\n",
       "    </tr>\n",
       "    <tr>\n",
       "      <th>1</th>\n",
       "      <td>11/22/63: A Novel</td>\n",
       "      <td>Stephen King</td>\n",
       "      <td>4.6</td>\n",
       "      <td>2052</td>\n",
       "      <td>22</td>\n",
       "      <td>2011</td>\n",
       "      <td>Fiction</td>\n",
       "    </tr>\n",
       "    <tr>\n",
       "      <th>2</th>\n",
       "      <td>12 Rules for Life: An Antidote to Chaos</td>\n",
       "      <td>Jordan B. Peterson</td>\n",
       "      <td>4.7</td>\n",
       "      <td>18979</td>\n",
       "      <td>15</td>\n",
       "      <td>2018</td>\n",
       "      <td>Non Fiction</td>\n",
       "    </tr>\n",
       "    <tr>\n",
       "      <th>3</th>\n",
       "      <td>1984 (Signet Classics)</td>\n",
       "      <td>George Orwell</td>\n",
       "      <td>4.7</td>\n",
       "      <td>21424</td>\n",
       "      <td>6</td>\n",
       "      <td>2017</td>\n",
       "      <td>Fiction</td>\n",
       "    </tr>\n",
       "    <tr>\n",
       "      <th>4</th>\n",
       "      <td>5,000 Awesome Facts (About Everything!) (Natio...</td>\n",
       "      <td>National Geographic Kids</td>\n",
       "      <td>4.8</td>\n",
       "      <td>7665</td>\n",
       "      <td>12</td>\n",
       "      <td>2019</td>\n",
       "      <td>Non Fiction</td>\n",
       "    </tr>\n",
       "    <tr>\n",
       "      <th>5</th>\n",
       "      <td>A Dance with Dragons (A Song of Ice and Fire)</td>\n",
       "      <td>George R. R. Martin</td>\n",
       "      <td>4.4</td>\n",
       "      <td>12643</td>\n",
       "      <td>11</td>\n",
       "      <td>2011</td>\n",
       "      <td>Fiction</td>\n",
       "    </tr>\n",
       "    <tr>\n",
       "      <th>6</th>\n",
       "      <td>A Game of Thrones / A Clash of Kings / A Storm...</td>\n",
       "      <td>George R. R. Martin</td>\n",
       "      <td>4.7</td>\n",
       "      <td>19735</td>\n",
       "      <td>30</td>\n",
       "      <td>2014</td>\n",
       "      <td>Fiction</td>\n",
       "    </tr>\n",
       "    <tr>\n",
       "      <th>7</th>\n",
       "      <td>A Gentleman in Moscow: A Novel</td>\n",
       "      <td>Amor Towles</td>\n",
       "      <td>4.7</td>\n",
       "      <td>19699</td>\n",
       "      <td>15</td>\n",
       "      <td>2017</td>\n",
       "      <td>Fiction</td>\n",
       "    </tr>\n",
       "    <tr>\n",
       "      <th>8</th>\n",
       "      <td>A Higher Loyalty: Truth, Lies, and Leadership</td>\n",
       "      <td>James Comey</td>\n",
       "      <td>4.7</td>\n",
       "      <td>5983</td>\n",
       "      <td>3</td>\n",
       "      <td>2018</td>\n",
       "      <td>Non Fiction</td>\n",
       "    </tr>\n",
       "    <tr>\n",
       "      <th>9</th>\n",
       "      <td>A Man Called Ove: A Novel</td>\n",
       "      <td>Fredrik Backman</td>\n",
       "      <td>4.6</td>\n",
       "      <td>23848</td>\n",
       "      <td>8</td>\n",
       "      <td>2016</td>\n",
       "      <td>Fiction</td>\n",
       "    </tr>\n",
       "    <tr>\n",
       "      <th>10</th>\n",
       "      <td>A Man Called Ove: A Novel</td>\n",
       "      <td>Fredrik Backman</td>\n",
       "      <td>4.6</td>\n",
       "      <td>23848</td>\n",
       "      <td>8</td>\n",
       "      <td>2017</td>\n",
       "      <td>Fiction</td>\n",
       "    </tr>\n",
       "    <tr>\n",
       "      <th>11</th>\n",
       "      <td>A Patriot's History of the United States: From...</td>\n",
       "      <td>Larry Schweikart</td>\n",
       "      <td>4.6</td>\n",
       "      <td>460</td>\n",
       "      <td>2</td>\n",
       "      <td>2010</td>\n",
       "      <td>Non Fiction</td>\n",
       "    </tr>\n",
       "    <tr>\n",
       "      <th>12</th>\n",
       "      <td>A Stolen Life: A Memoir</td>\n",
       "      <td>Jaycee Dugard</td>\n",
       "      <td>4.6</td>\n",
       "      <td>4149</td>\n",
       "      <td>32</td>\n",
       "      <td>2011</td>\n",
       "      <td>Non Fiction</td>\n",
       "    </tr>\n",
       "    <tr>\n",
       "      <th>13</th>\n",
       "      <td>A Wrinkle in Time (Time Quintet)</td>\n",
       "      <td>Madeleine L'Engle</td>\n",
       "      <td>4.5</td>\n",
       "      <td>5153</td>\n",
       "      <td>5</td>\n",
       "      <td>2018</td>\n",
       "      <td>Fiction</td>\n",
       "    </tr>\n",
       "    <tr>\n",
       "      <th>14</th>\n",
       "      <td>Act Like a Lady, Think Like a Man: What Men Re...</td>\n",
       "      <td>Steve Harvey</td>\n",
       "      <td>4.6</td>\n",
       "      <td>5013</td>\n",
       "      <td>17</td>\n",
       "      <td>2009</td>\n",
       "      <td>Non Fiction</td>\n",
       "    </tr>\n",
       "    <tr>\n",
       "      <th>15</th>\n",
       "      <td>Adult Coloring Book Designs: Stress Relief Col...</td>\n",
       "      <td>Adult Coloring Book Designs</td>\n",
       "      <td>4.5</td>\n",
       "      <td>2313</td>\n",
       "      <td>4</td>\n",
       "      <td>2016</td>\n",
       "      <td>Non Fiction</td>\n",
       "    </tr>\n",
       "    <tr>\n",
       "      <th>16</th>\n",
       "      <td>Adult Coloring Book: Stress Relieving Animal D...</td>\n",
       "      <td>Blue Star Coloring</td>\n",
       "      <td>4.6</td>\n",
       "      <td>2925</td>\n",
       "      <td>6</td>\n",
       "      <td>2015</td>\n",
       "      <td>Non Fiction</td>\n",
       "    </tr>\n",
       "    <tr>\n",
       "      <th>17</th>\n",
       "      <td>Adult Coloring Book: Stress Relieving Patterns</td>\n",
       "      <td>Blue Star Coloring</td>\n",
       "      <td>4.4</td>\n",
       "      <td>2951</td>\n",
       "      <td>6</td>\n",
       "      <td>2015</td>\n",
       "      <td>Non Fiction</td>\n",
       "    </tr>\n",
       "    <tr>\n",
       "      <th>18</th>\n",
       "      <td>Adult Coloring Books: A Coloring Book for Adul...</td>\n",
       "      <td>Coloring Books for Adults</td>\n",
       "      <td>4.5</td>\n",
       "      <td>2426</td>\n",
       "      <td>8</td>\n",
       "      <td>2015</td>\n",
       "      <td>Non Fiction</td>\n",
       "    </tr>\n",
       "    <tr>\n",
       "      <th>19</th>\n",
       "      <td>Alexander Hamilton</td>\n",
       "      <td>Ron Chernow</td>\n",
       "      <td>4.8</td>\n",
       "      <td>9198</td>\n",
       "      <td>13</td>\n",
       "      <td>2016</td>\n",
       "      <td>Non Fiction</td>\n",
       "    </tr>\n",
       "  </tbody>\n",
       "</table>\n",
       "</div>"
      ],
      "text/plain": [
       "                                                 Name  \\\n",
       "0                       10-Day Green Smoothie Cleanse   \n",
       "1                                   11/22/63: A Novel   \n",
       "2             12 Rules for Life: An Antidote to Chaos   \n",
       "3                              1984 (Signet Classics)   \n",
       "4   5,000 Awesome Facts (About Everything!) (Natio...   \n",
       "5       A Dance with Dragons (A Song of Ice and Fire)   \n",
       "6   A Game of Thrones / A Clash of Kings / A Storm...   \n",
       "7                      A Gentleman in Moscow: A Novel   \n",
       "8       A Higher Loyalty: Truth, Lies, and Leadership   \n",
       "9                           A Man Called Ove: A Novel   \n",
       "10                          A Man Called Ove: A Novel   \n",
       "11  A Patriot's History of the United States: From...   \n",
       "12                            A Stolen Life: A Memoir   \n",
       "13                   A Wrinkle in Time (Time Quintet)   \n",
       "14  Act Like a Lady, Think Like a Man: What Men Re...   \n",
       "15  Adult Coloring Book Designs: Stress Relief Col...   \n",
       "16  Adult Coloring Book: Stress Relieving Animal D...   \n",
       "17     Adult Coloring Book: Stress Relieving Patterns   \n",
       "18  Adult Coloring Books: A Coloring Book for Adul...   \n",
       "19                                 Alexander Hamilton   \n",
       "\n",
       "                         Author  User Rating  Reviews  Price  Year  \\\n",
       "0                      JJ Smith          4.7    17350      8  2016   \n",
       "1                  Stephen King          4.6     2052     22  2011   \n",
       "2            Jordan B. Peterson          4.7    18979     15  2018   \n",
       "3                 George Orwell          4.7    21424      6  2017   \n",
       "4      National Geographic Kids          4.8     7665     12  2019   \n",
       "5           George R. R. Martin          4.4    12643     11  2011   \n",
       "6           George R. R. Martin          4.7    19735     30  2014   \n",
       "7                   Amor Towles          4.7    19699     15  2017   \n",
       "8                   James Comey          4.7     5983      3  2018   \n",
       "9               Fredrik Backman          4.6    23848      8  2016   \n",
       "10              Fredrik Backman          4.6    23848      8  2017   \n",
       "11             Larry Schweikart          4.6      460      2  2010   \n",
       "12                Jaycee Dugard          4.6     4149     32  2011   \n",
       "13            Madeleine L'Engle          4.5     5153      5  2018   \n",
       "14                 Steve Harvey          4.6     5013     17  2009   \n",
       "15  Adult Coloring Book Designs          4.5     2313      4  2016   \n",
       "16           Blue Star Coloring          4.6     2925      6  2015   \n",
       "17           Blue Star Coloring          4.4     2951      6  2015   \n",
       "18    Coloring Books for Adults          4.5     2426      8  2015   \n",
       "19                  Ron Chernow          4.8     9198     13  2016   \n",
       "\n",
       "          Genre  \n",
       "0   Non Fiction  \n",
       "1       Fiction  \n",
       "2   Non Fiction  \n",
       "3       Fiction  \n",
       "4   Non Fiction  \n",
       "5       Fiction  \n",
       "6       Fiction  \n",
       "7       Fiction  \n",
       "8   Non Fiction  \n",
       "9       Fiction  \n",
       "10      Fiction  \n",
       "11  Non Fiction  \n",
       "12  Non Fiction  \n",
       "13      Fiction  \n",
       "14  Non Fiction  \n",
       "15  Non Fiction  \n",
       "16  Non Fiction  \n",
       "17  Non Fiction  \n",
       "18  Non Fiction  \n",
       "19  Non Fiction  "
      ]
     },
     "execution_count": 3,
     "metadata": {},
     "output_type": "execute_result"
    }
   ],
   "source": [
    "data.head(20)"
   ]
  },
  {
   "cell_type": "code",
   "execution_count": 4,
   "id": "ddf42fbc",
   "metadata": {
    "execution": {
     "iopub.execute_input": "2023-03-29T18:23:08.148907Z",
     "iopub.status.busy": "2023-03-29T18:23:08.148384Z",
     "iopub.status.idle": "2023-03-29T18:23:08.186718Z",
     "shell.execute_reply": "2023-03-29T18:23:08.184302Z"
    },
    "papermill": {
     "duration": 0.051302,
     "end_time": "2023-03-29T18:23:08.190368",
     "exception": false,
     "start_time": "2023-03-29T18:23:08.139066",
     "status": "completed"
    },
    "tags": []
   },
   "outputs": [
    {
     "name": "stdout",
     "output_type": "stream",
     "text": [
      "<class 'pandas.core.frame.DataFrame'>\n",
      "RangeIndex: 550 entries, 0 to 549\n",
      "Data columns (total 7 columns):\n",
      " #   Column       Non-Null Count  Dtype  \n",
      "---  ------       --------------  -----  \n",
      " 0   Name         550 non-null    object \n",
      " 1   Author       550 non-null    object \n",
      " 2   User Rating  550 non-null    float64\n",
      " 3   Reviews      550 non-null    int64  \n",
      " 4   Price        550 non-null    int64  \n",
      " 5   Year         550 non-null    int64  \n",
      " 6   Genre        550 non-null    object \n",
      "dtypes: float64(1), int64(3), object(3)\n",
      "memory usage: 30.2+ KB\n"
     ]
    }
   ],
   "source": [
    "data.info()"
   ]
  },
  {
   "cell_type": "code",
   "execution_count": 5,
   "id": "711b538a",
   "metadata": {
    "execution": {
     "iopub.execute_input": "2023-03-29T18:23:08.208068Z",
     "iopub.status.busy": "2023-03-29T18:23:08.206950Z",
     "iopub.status.idle": "2023-03-29T18:23:08.224767Z",
     "shell.execute_reply": "2023-03-29T18:23:08.222025Z"
    },
    "papermill": {
     "duration": 0.029999,
     "end_time": "2023-03-29T18:23:08.228280",
     "exception": false,
     "start_time": "2023-03-29T18:23:08.198281",
     "status": "completed"
    },
    "tags": []
   },
   "outputs": [
    {
     "name": "stdout",
     "output_type": "stream",
     "text": [
      "Checking for Null Values\n"
     ]
    },
    {
     "data": {
      "text/plain": [
       "Name           0\n",
       "Author         0\n",
       "User Rating    0\n",
       "Reviews        0\n",
       "Price          0\n",
       "Year           0\n",
       "Genre          0\n",
       "dtype: int64"
      ]
     },
     "execution_count": 5,
     "metadata": {},
     "output_type": "execute_result"
    }
   ],
   "source": [
    "print('Checking for Null Values')\n",
    "data.isna().sum()"
   ]
  },
  {
   "cell_type": "markdown",
   "id": "13210ac1",
   "metadata": {
    "papermill": {
     "duration": 0.007804,
     "end_time": "2023-03-29T18:23:08.244311",
     "exception": false,
     "start_time": "2023-03-29T18:23:08.236507",
     "status": "completed"
    },
    "tags": []
   },
   "source": [
    "In the data we see that there are multiple entries for a book with different editions. Let's keep only the latest ones."
   ]
  },
  {
   "cell_type": "code",
   "execution_count": 6,
   "id": "49463886",
   "metadata": {
    "execution": {
     "iopub.execute_input": "2023-03-29T18:23:08.261769Z",
     "iopub.status.busy": "2023-03-29T18:23:08.260938Z",
     "iopub.status.idle": "2023-03-29T18:23:08.273195Z",
     "shell.execute_reply": "2023-03-29T18:23:08.271277Z"
    },
    "papermill": {
     "duration": 0.025196,
     "end_time": "2023-03-29T18:23:08.276740",
     "exception": false,
     "start_time": "2023-03-29T18:23:08.251544",
     "status": "completed"
    },
    "tags": []
   },
   "outputs": [],
   "source": [
    "data.drop_duplicates(subset=['Name'], keep='last', inplace=True)"
   ]
  },
  {
   "cell_type": "markdown",
   "id": "916d1a9b",
   "metadata": {
    "papermill": {
     "duration": 0.006434,
     "end_time": "2023-03-29T18:23:08.290617",
     "exception": false,
     "start_time": "2023-03-29T18:23:08.284183",
     "status": "completed"
    },
    "tags": []
   },
   "source": [
    "Things we want to check on this dataset right off the bat:\n",
    "1. What Genre of books are available? What is the percent of each genre that's being sold?\n",
    "2. Top 10 Authors with respect to user ratings\n",
    "3. Most Expensive books available.\n",
    "4. Top 10 books with respect to user ratings"
   ]
  },
  {
   "cell_type": "code",
   "execution_count": 7,
   "id": "d6d0bcc0",
   "metadata": {
    "execution": {
     "iopub.execute_input": "2023-03-29T18:23:08.307823Z",
     "iopub.status.busy": "2023-03-29T18:23:08.307375Z",
     "iopub.status.idle": "2023-03-29T18:23:08.324935Z",
     "shell.execute_reply": "2023-03-29T18:23:08.323062Z"
    },
    "papermill": {
     "duration": 0.02975,
     "end_time": "2023-03-29T18:23:08.328201",
     "exception": false,
     "start_time": "2023-03-29T18:23:08.298451",
     "status": "completed"
    },
    "tags": []
   },
   "outputs": [
    {
     "name": "stdout",
     "output_type": "stream",
     "text": [
      "Genre of Books\n",
      "['Non Fiction' 'Fiction']\n",
      "Genre\n",
      "Fiction        160\n",
      "Non Fiction    191\n",
      "Name: Name, dtype: int64\n"
     ]
    }
   ],
   "source": [
    "print('Genre of Books')\n",
    "print(data['Genre'].unique())\n",
    "print(data.groupby('Genre').count()['Name'])"
   ]
  },
  {
   "cell_type": "code",
   "execution_count": 8,
   "id": "421ae2ef",
   "metadata": {
    "execution": {
     "iopub.execute_input": "2023-03-29T18:23:08.345297Z",
     "iopub.status.busy": "2023-03-29T18:23:08.344848Z",
     "iopub.status.idle": "2023-03-29T18:23:08.358866Z",
     "shell.execute_reply": "2023-03-29T18:23:08.357254Z"
    },
    "papermill": {
     "duration": 0.026171,
     "end_time": "2023-03-29T18:23:08.362406",
     "exception": false,
     "start_time": "2023-03-29T18:23:08.336235",
     "status": "completed"
    },
    "tags": []
   },
   "outputs": [
    {
     "name": "stdout",
     "output_type": "stream",
     "text": [
      "Percentage of Genre\n"
     ]
    }
   ],
   "source": [
    "print('Percentage of Genre')\n",
    "genre_group = data.groupby('Genre').count()['Name'].reset_index()\n",
    "genre_group['%age'] = [(i/genre_group[\"Name\"].sum())*100 for i in genre_group['Name']]"
   ]
  },
  {
   "cell_type": "code",
   "execution_count": 9,
   "id": "125583dd",
   "metadata": {
    "execution": {
     "iopub.execute_input": "2023-03-29T18:23:08.382395Z",
     "iopub.status.busy": "2023-03-29T18:23:08.381176Z",
     "iopub.status.idle": "2023-03-29T18:23:08.395769Z",
     "shell.execute_reply": "2023-03-29T18:23:08.394280Z"
    },
    "papermill": {
     "duration": 0.028308,
     "end_time": "2023-03-29T18:23:08.398924",
     "exception": false,
     "start_time": "2023-03-29T18:23:08.370616",
     "status": "completed"
    },
    "tags": []
   },
   "outputs": [
    {
     "data": {
      "text/html": [
       "<div>\n",
       "<style scoped>\n",
       "    .dataframe tbody tr th:only-of-type {\n",
       "        vertical-align: middle;\n",
       "    }\n",
       "\n",
       "    .dataframe tbody tr th {\n",
       "        vertical-align: top;\n",
       "    }\n",
       "\n",
       "    .dataframe thead th {\n",
       "        text-align: right;\n",
       "    }\n",
       "</style>\n",
       "<table border=\"1\" class=\"dataframe\">\n",
       "  <thead>\n",
       "    <tr style=\"text-align: right;\">\n",
       "      <th></th>\n",
       "      <th>Genre</th>\n",
       "      <th>Name</th>\n",
       "      <th>%age</th>\n",
       "    </tr>\n",
       "  </thead>\n",
       "  <tbody>\n",
       "    <tr>\n",
       "      <th>0</th>\n",
       "      <td>Fiction</td>\n",
       "      <td>160</td>\n",
       "      <td>45.584046</td>\n",
       "    </tr>\n",
       "    <tr>\n",
       "      <th>1</th>\n",
       "      <td>Non Fiction</td>\n",
       "      <td>191</td>\n",
       "      <td>54.415954</td>\n",
       "    </tr>\n",
       "  </tbody>\n",
       "</table>\n",
       "</div>"
      ],
      "text/plain": [
       "         Genre  Name       %age\n",
       "0      Fiction   160  45.584046\n",
       "1  Non Fiction   191  54.415954"
      ]
     },
     "execution_count": 9,
     "metadata": {},
     "output_type": "execute_result"
    }
   ],
   "source": [
    "genre_group"
   ]
  },
  {
   "cell_type": "code",
   "execution_count": 10,
   "id": "9e809de8",
   "metadata": {
    "execution": {
     "iopub.execute_input": "2023-03-29T18:23:08.419353Z",
     "iopub.status.busy": "2023-03-29T18:23:08.418884Z",
     "iopub.status.idle": "2023-03-29T18:23:08.445305Z",
     "shell.execute_reply": "2023-03-29T18:23:08.442934Z"
    },
    "papermill": {
     "duration": 0.040294,
     "end_time": "2023-03-29T18:23:08.448782",
     "exception": false,
     "start_time": "2023-03-29T18:23:08.408488",
     "status": "completed"
    },
    "tags": []
   },
   "outputs": [
    {
     "name": "stdout",
     "output_type": "stream",
     "text": [
      "Look for Top 10 Authors\n"
     ]
    },
    {
     "data": {
      "text/html": [
       "<div>\n",
       "<style scoped>\n",
       "    .dataframe tbody tr th:only-of-type {\n",
       "        vertical-align: middle;\n",
       "    }\n",
       "\n",
       "    .dataframe tbody tr th {\n",
       "        vertical-align: top;\n",
       "    }\n",
       "\n",
       "    .dataframe thead th {\n",
       "        text-align: right;\n",
       "    }\n",
       "</style>\n",
       "<table border=\"1\" class=\"dataframe\">\n",
       "  <thead>\n",
       "    <tr style=\"text-align: right;\">\n",
       "      <th></th>\n",
       "      <th>Name</th>\n",
       "      <th>Author</th>\n",
       "      <th>User Rating</th>\n",
       "      <th>Reviews</th>\n",
       "      <th>Price</th>\n",
       "      <th>Year</th>\n",
       "      <th>Genre</th>\n",
       "    </tr>\n",
       "  </thead>\n",
       "  <tbody>\n",
       "    <tr>\n",
       "      <th>82</th>\n",
       "      <td>Dog Man: A Tale of Two Kitties: From the Creat...</td>\n",
       "      <td>Dav Pilkey</td>\n",
       "      <td>4.9</td>\n",
       "      <td>4786</td>\n",
       "      <td>8</td>\n",
       "      <td>2017</td>\n",
       "      <td>Fiction</td>\n",
       "    </tr>\n",
       "    <tr>\n",
       "      <th>174</th>\n",
       "      <td>Humans of New York : Stories</td>\n",
       "      <td>Brandon Stanton</td>\n",
       "      <td>4.9</td>\n",
       "      <td>2812</td>\n",
       "      <td>17</td>\n",
       "      <td>2015</td>\n",
       "      <td>Non Fiction</td>\n",
       "    </tr>\n",
       "    <tr>\n",
       "      <th>147</th>\n",
       "      <td>Goodnight, Goodnight Construction Site (Hardco...</td>\n",
       "      <td>Sherri Duskey Rinker</td>\n",
       "      <td>4.9</td>\n",
       "      <td>7038</td>\n",
       "      <td>7</td>\n",
       "      <td>2013</td>\n",
       "      <td>Fiction</td>\n",
       "    </tr>\n",
       "    <tr>\n",
       "      <th>289</th>\n",
       "      <td>Rush Revere and the First Patriots: Time-Trave...</td>\n",
       "      <td>Rush Limbaugh</td>\n",
       "      <td>4.9</td>\n",
       "      <td>3836</td>\n",
       "      <td>12</td>\n",
       "      <td>2014</td>\n",
       "      <td>Fiction</td>\n",
       "    </tr>\n",
       "    <tr>\n",
       "      <th>41</th>\n",
       "      <td>Brown Bear, Brown Bear, What Do You See?</td>\n",
       "      <td>Bill Martin Jr.</td>\n",
       "      <td>4.9</td>\n",
       "      <td>14344</td>\n",
       "      <td>5</td>\n",
       "      <td>2019</td>\n",
       "      <td>Fiction</td>\n",
       "    </tr>\n",
       "    <tr>\n",
       "      <th>...</th>\n",
       "      <td>...</td>\n",
       "      <td>...</td>\n",
       "      <td>...</td>\n",
       "      <td>...</td>\n",
       "      <td>...</td>\n",
       "      <td>...</td>\n",
       "      <td>...</td>\n",
       "    </tr>\n",
       "    <tr>\n",
       "      <th>393</th>\n",
       "      <td>The Goldfinch: A Novel (Pulitzer Prize for Fic...</td>\n",
       "      <td>Donna Tartt</td>\n",
       "      <td>3.9</td>\n",
       "      <td>33844</td>\n",
       "      <td>20</td>\n",
       "      <td>2014</td>\n",
       "      <td>Fiction</td>\n",
       "    </tr>\n",
       "    <tr>\n",
       "      <th>22</th>\n",
       "      <td>Allegiant</td>\n",
       "      <td>Veronica Roth</td>\n",
       "      <td>3.9</td>\n",
       "      <td>6310</td>\n",
       "      <td>13</td>\n",
       "      <td>2013</td>\n",
       "      <td>Fiction</td>\n",
       "    </tr>\n",
       "    <tr>\n",
       "      <th>107</th>\n",
       "      <td>Fifty Shades of Grey: Book One of the Fifty Sh...</td>\n",
       "      <td>E L James</td>\n",
       "      <td>3.8</td>\n",
       "      <td>47265</td>\n",
       "      <td>14</td>\n",
       "      <td>2013</td>\n",
       "      <td>Fiction</td>\n",
       "    </tr>\n",
       "    <tr>\n",
       "      <th>132</th>\n",
       "      <td>Go Set a Watchman: A Novel</td>\n",
       "      <td>Harper Lee</td>\n",
       "      <td>3.6</td>\n",
       "      <td>14982</td>\n",
       "      <td>19</td>\n",
       "      <td>2015</td>\n",
       "      <td>Fiction</td>\n",
       "    </tr>\n",
       "    <tr>\n",
       "      <th>353</th>\n",
       "      <td>The Casual Vacancy</td>\n",
       "      <td>J.K. Rowling</td>\n",
       "      <td>3.3</td>\n",
       "      <td>9372</td>\n",
       "      <td>12</td>\n",
       "      <td>2012</td>\n",
       "      <td>Fiction</td>\n",
       "    </tr>\n",
       "  </tbody>\n",
       "</table>\n",
       "<p>351 rows × 7 columns</p>\n",
       "</div>"
      ],
      "text/plain": [
       "                                                  Name                Author  \\\n",
       "82   Dog Man: A Tale of Two Kitties: From the Creat...            Dav Pilkey   \n",
       "174                       Humans of New York : Stories       Brandon Stanton   \n",
       "147  Goodnight, Goodnight Construction Site (Hardco...  Sherri Duskey Rinker   \n",
       "289  Rush Revere and the First Patriots: Time-Trave...         Rush Limbaugh   \n",
       "41            Brown Bear, Brown Bear, What Do You See?       Bill Martin Jr.   \n",
       "..                                                 ...                   ...   \n",
       "393  The Goldfinch: A Novel (Pulitzer Prize for Fic...           Donna Tartt   \n",
       "22                                           Allegiant         Veronica Roth   \n",
       "107  Fifty Shades of Grey: Book One of the Fifty Sh...             E L James   \n",
       "132                         Go Set a Watchman: A Novel            Harper Lee   \n",
       "353                                 The Casual Vacancy          J.K. Rowling   \n",
       "\n",
       "     User Rating  Reviews  Price  Year        Genre  \n",
       "82           4.9     4786      8  2017      Fiction  \n",
       "174          4.9     2812     17  2015  Non Fiction  \n",
       "147          4.9     7038      7  2013      Fiction  \n",
       "289          4.9     3836     12  2014      Fiction  \n",
       "41           4.9    14344      5  2019      Fiction  \n",
       "..           ...      ...    ...   ...          ...  \n",
       "393          3.9    33844     20  2014      Fiction  \n",
       "22           3.9     6310     13  2013      Fiction  \n",
       "107          3.8    47265     14  2013      Fiction  \n",
       "132          3.6    14982     19  2015      Fiction  \n",
       "353          3.3     9372     12  2012      Fiction  \n",
       "\n",
       "[351 rows x 7 columns]"
      ]
     },
     "execution_count": 10,
     "metadata": {},
     "output_type": "execute_result"
    }
   ],
   "source": [
    "print('Look for Top 10 Authors')\n",
    "data.sort_values(by='User Rating', ascending=False)"
   ]
  },
  {
   "cell_type": "code",
   "execution_count": 11,
   "id": "b91c2d53",
   "metadata": {
    "execution": {
     "iopub.execute_input": "2023-03-29T18:23:08.466932Z",
     "iopub.status.busy": "2023-03-29T18:23:08.465479Z",
     "iopub.status.idle": "2023-03-29T18:23:08.475574Z",
     "shell.execute_reply": "2023-03-29T18:23:08.474072Z"
    },
    "papermill": {
     "duration": 0.022601,
     "end_time": "2023-03-29T18:23:08.478997",
     "exception": false,
     "start_time": "2023-03-29T18:23:08.456396",
     "status": "completed"
    },
    "tags": []
   },
   "outputs": [],
   "source": [
    "author_rank = data.groupby('Author').mean()['User Rating'].sort_values(ascending=False)"
   ]
  },
  {
   "cell_type": "code",
   "execution_count": 12,
   "id": "92fc4b37",
   "metadata": {
    "execution": {
     "iopub.execute_input": "2023-03-29T18:23:08.499614Z",
     "iopub.status.busy": "2023-03-29T18:23:08.497982Z",
     "iopub.status.idle": "2023-03-29T18:23:08.511362Z",
     "shell.execute_reply": "2023-03-29T18:23:08.508651Z"
    },
    "papermill": {
     "duration": 0.029887,
     "end_time": "2023-03-29T18:23:08.516393",
     "exception": false,
     "start_time": "2023-03-29T18:23:08.486506",
     "status": "completed"
    },
    "tags": []
   },
   "outputs": [
    {
     "name": "stdout",
     "output_type": "stream",
     "text": [
      "Top 10 OGs Author\n",
      "Patrick Thorpe          4.9\n",
      "Alice Schertle          4.9\n",
      "Dav Pilkey              4.9\n",
      "Pete Souza              4.9\n",
      "Lin-Manuel Miranda      4.9\n",
      "Rush Limbaugh           4.9\n",
      "Sarah Young             4.9\n",
      "Jill Twiss              4.9\n",
      "Nathan W. Pyle          4.9\n",
      "Sherri Duskey Rinker    4.9\n",
      "Name: User Rating, dtype: float64\n"
     ]
    }
   ],
   "source": [
    "print(f'Top 10 OGs {author_rank[0:10]}')"
   ]
  },
  {
   "cell_type": "code",
   "execution_count": 13,
   "id": "2ccf12f3",
   "metadata": {
    "execution": {
     "iopub.execute_input": "2023-03-29T18:23:08.535404Z",
     "iopub.status.busy": "2023-03-29T18:23:08.534871Z",
     "iopub.status.idle": "2023-03-29T18:23:08.544788Z",
     "shell.execute_reply": "2023-03-29T18:23:08.543294Z"
    },
    "papermill": {
     "duration": 0.023712,
     "end_time": "2023-03-29T18:23:08.548647",
     "exception": false,
     "start_time": "2023-03-29T18:23:08.524935",
     "status": "completed"
    },
    "tags": []
   },
   "outputs": [
    {
     "name": "stdout",
     "output_type": "stream",
     "text": [
      "Number of books published per Author\n",
      "Jeff Kinney            12\n",
      "Rick Riordan           10\n",
      "Stephenie Meyer         7\n",
      "Bill O'Reilly           6\n",
      "Dav Pilkey              6\n",
      "                       ..\n",
      "Eric Larson             1\n",
      "Christopher Paolini     1\n",
      "Jennifer Smith          1\n",
      "Sarah Young             1\n",
      "Jen Sincero             1\n",
      "Name: Author, Length: 248, dtype: int64\n"
     ]
    }
   ],
   "source": [
    "print('Number of books published per Author')\n",
    "book_author_count = data['Author'].value_counts()\n",
    "print(book_author_count)"
   ]
  },
  {
   "cell_type": "code",
   "execution_count": 14,
   "id": "c4430236",
   "metadata": {
    "execution": {
     "iopub.execute_input": "2023-03-29T18:23:08.569062Z",
     "iopub.status.busy": "2023-03-29T18:23:08.568141Z",
     "iopub.status.idle": "2023-03-29T18:23:08.580695Z",
     "shell.execute_reply": "2023-03-29T18:23:08.578619Z"
    },
    "papermill": {
     "duration": 0.028196,
     "end_time": "2023-03-29T18:23:08.585852",
     "exception": false,
     "start_time": "2023-03-29T18:23:08.557656",
     "status": "completed"
    },
    "tags": []
   },
   "outputs": [
    {
     "name": "stdout",
     "output_type": "stream",
     "text": [
      "Top 10 Expensive books\n",
      "                                                  Name  Price\n",
      "70   Diagnostic and Statistical Manual of Mental Di...    105\n",
      "473                       The Twilight Saga Collection     82\n",
      "151                           Hamilton: The Revolution     54\n",
      "346  The Book of Basketball: The NBA According to T...     53\n",
      "159         Harry Potter Paperback Box Set (Books 1-7)     52\n",
      "280  Publication Manual of the American Psychologic...     46\n",
      "524                                           Watchmen     42\n",
      "443                       The Official SAT Study Guide     40\n",
      "338                                      The Alchemist     39\n",
      "444  The Official SAT Study Guide, 2016 Edition (Of...     36\n"
     ]
    }
   ],
   "source": [
    "print('Top 10 Expensive books')\n",
    "print(data.sort_values(by='Price', ascending=False)[['Name','Price']][0:10])"
   ]
  },
  {
   "cell_type": "code",
   "execution_count": 15,
   "id": "9508ddae",
   "metadata": {
    "execution": {
     "iopub.execute_input": "2023-03-29T18:23:08.605065Z",
     "iopub.status.busy": "2023-03-29T18:23:08.604594Z",
     "iopub.status.idle": "2023-03-29T18:23:08.620038Z",
     "shell.execute_reply": "2023-03-29T18:23:08.617337Z"
    },
    "papermill": {
     "duration": 0.029786,
     "end_time": "2023-03-29T18:23:08.623835",
     "exception": false,
     "start_time": "2023-03-29T18:23:08.594049",
     "status": "completed"
    },
    "tags": []
   },
   "outputs": [
    {
     "name": "stdout",
     "output_type": "stream",
     "text": [
      "Top 10 Books as per rating Name\n",
      "Humans of New York : Stories                                                                       4.9\n",
      "Goodnight, Goodnight Construction Site (Hardcover Books for Toddlers, Preschool Books for Kids)    4.9\n",
      "Rush Revere and the First Patriots: Time-Travel Adventures With Exceptional Americans (2)          4.9\n",
      "Brown Bear, Brown Bear, What Do You See?                                                           4.9\n",
      "Hamilton: The Revolution                                                                           4.9\n",
      "Dog Man: Brawl of the Wild: From the Creator of Captain Underpants (Dog Man #6)                    4.9\n",
      "Rush Revere and the Brave Pilgrims: Time-Travel Adventures with Exceptional Americans (1)          4.9\n",
      "Harry Potter and the Chamber of Secrets: The Illustrated Edition (Harry Potter, Book 2)            4.9\n",
      "Harry Potter and the Goblet of Fire: The Illustrated Edition (Harry Potter, Book 4) (4)            4.9\n",
      "Name: User Rating, dtype: float64\n"
     ]
    }
   ],
   "source": [
    "print(f'Top 10 Books as per rating {data.groupby(\"Name\").mean()[\"User Rating\"].sort_values(ascending=False)[1:10]}')"
   ]
  },
  {
   "cell_type": "markdown",
   "id": "cb60438e",
   "metadata": {
    "papermill": {
     "duration": 0.008555,
     "end_time": "2023-03-29T18:23:08.642372",
     "exception": false,
     "start_time": "2023-03-29T18:23:08.633817",
     "status": "completed"
    },
    "tags": []
   },
   "source": [
    "Let's create some graphs"
   ]
  },
  {
   "cell_type": "code",
   "execution_count": 16,
   "id": "ca66daae",
   "metadata": {
    "execution": {
     "iopub.execute_input": "2023-03-29T18:23:08.663155Z",
     "iopub.status.busy": "2023-03-29T18:23:08.662548Z",
     "iopub.status.idle": "2023-03-29T18:23:10.477068Z",
     "shell.execute_reply": "2023-03-29T18:23:10.475450Z"
    },
    "papermill": {
     "duration": 1.829616,
     "end_time": "2023-03-29T18:23:10.480182",
     "exception": false,
     "start_time": "2023-03-29T18:23:08.650566",
     "status": "completed"
    },
    "tags": []
   },
   "outputs": [],
   "source": [
    "import seaborn as sns\n",
    "import matplotlib.pyplot as plt"
   ]
  },
  {
   "cell_type": "code",
   "execution_count": 17,
   "id": "08811427",
   "metadata": {
    "execution": {
     "iopub.execute_input": "2023-03-29T18:23:10.503985Z",
     "iopub.status.busy": "2023-03-29T18:23:10.502000Z",
     "iopub.status.idle": "2023-03-29T18:23:11.135070Z",
     "shell.execute_reply": "2023-03-29T18:23:11.129078Z"
    },
    "papermill": {
     "duration": 0.648335,
     "end_time": "2023-03-29T18:23:11.139651",
     "exception": false,
     "start_time": "2023-03-29T18:23:10.491316",
     "status": "completed"
    },
    "tags": []
   },
   "outputs": [
    {
     "name": "stdout",
     "output_type": "stream",
     "text": [
      "Top 10 Selling books\n"
     ]
    },
    {
     "data": {
      "image/png": "[encoded data removed]",
      "text/plain": [
       "<Figure size 1500x500 with 1 Axes>"
      ]
     },
     "metadata": {},
     "output_type": "display_data"
    }
   ],
   "source": [
    "# Loaded the data again.\n",
    "print('Top 10 Selling books')\n",
    "top_bestselling_book = data.groupby('Name')['Name'].agg(['count']).reset_index().sort_values(by='count',ascending=False).head(10)\n",
    "plt.figure(figsize=(15,5))\n",
    "sns.barplot(data=top_bestselling_book,x=\"Name\",y=\"count\")\n",
    "plt.xticks(rotation=90)\n",
    "plt.show()"
   ]
  },
  {
   "cell_type": "code",
   "execution_count": 18,
   "id": "c673e942",
   "metadata": {
    "execution": {
     "iopub.execute_input": "2023-03-29T18:23:11.164075Z",
     "iopub.status.busy": "2023-03-29T18:23:11.163554Z",
     "iopub.status.idle": "2023-03-29T18:23:11.384661Z",
     "shell.execute_reply": "2023-03-29T18:23:11.382406Z"
    },
    "papermill": {
     "duration": 0.240554,
     "end_time": "2023-03-29T18:23:11.391731",
     "exception": false,
     "start_time": "2023-03-29T18:23:11.151177",
     "status": "completed"
    },
    "tags": []
   },
   "outputs": [
    {
     "data": {
      "text/plain": [
       "[]"
      ]
     },
     "execution_count": 18,
     "metadata": {},
     "output_type": "execute_result"
    },
    {
     "data": {
      "image/png": "[encoded data removed]",
      "text/plain": [
       "<Figure size 640x480 with 1 Axes>"
      ]
     },
     "metadata": {},
     "output_type": "display_data"
    }
   ],
   "source": [
    "explode = [0, 0.01]\n",
    "plt.pie(genre_group['%age'], labels=genre_group['Genre'], explode=explode, autopct='%.0f%%')\n",
    "plt.title('Percentage of Fiction vs Non Fiction')\n",
    "plt.plot()"
   ]
  },
  {
   "cell_type": "code",
   "execution_count": 19,
   "id": "040afa94",
   "metadata": {
    "execution": {
     "iopub.execute_input": "2023-03-29T18:23:11.429201Z",
     "iopub.status.busy": "2023-03-29T18:23:11.427423Z",
     "iopub.status.idle": "2023-03-29T18:23:11.949216Z",
     "shell.execute_reply": "2023-03-29T18:23:11.947665Z"
    },
    "papermill": {
     "duration": 0.538223,
     "end_time": "2023-03-29T18:23:11.952608",
     "exception": false,
     "start_time": "2023-03-29T18:23:11.414385",
     "status": "completed"
    },
    "tags": []
   },
   "outputs": [
    {
     "data": {
      "image/png": "[encoded data removed]",
      "text/plain": [
       "<Figure size 640x480 with 1 Axes>"
      ]
     },
     "metadata": {},
     "output_type": "display_data"
    }
   ],
   "source": [
    "sns.countplot(data=data, x=data['Author'], palette='BuPu', order=data['Author'].value_counts().index[0:30])\n",
    "plt.xticks(rotation=90)\n",
    "plt.show()"
   ]
  },
  {
   "cell_type": "code",
   "execution_count": null,
   "id": "bee26d0b",
   "metadata": {
    "papermill": {
     "duration": 0.011968,
     "end_time": "2023-03-29T18:23:11.977069",
     "exception": false,
     "start_time": "2023-03-29T18:23:11.965101",
     "status": "completed"
    },
    "tags": []
   },
   "outputs": [],
   "source": []
  }
 ],
 "metadata": {
  "kernelspec": {
   "display_name": "Python 3",
   "language": "python",
   "name": "python3"
  },
  "language_info": {
   "codemirror_mode": {
    "name": "ipython",
    "version": 3
   },
   "file_extension": ".py",
   "mimetype": "text/x-python",
   "name": "python",
   "nbconvert_exporter": "python",
   "pygments_lexer": "ipython3",
   "version": "3.7.12"
  },
  "papermill": {
   "default_parameters": {},
   "duration": 20.729953,
   "end_time": "2023-03-29T18:23:13.122527",
   "environment_variables": {},
   "exception": null,
   "input_path": "__notebook__.ipynb",
   "output_path": "__notebook__.ipynb",
   "parameters": {},
   "start_time": "2023-03-29T18:22:52.392574",
   "version": "2.4.0"
  }
 },
 "nbformat": 4,
 "nbformat_minor": 5
}
