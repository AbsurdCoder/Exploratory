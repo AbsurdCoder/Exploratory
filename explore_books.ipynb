{
 "cells": [
  {
   "cell_type": "code",
   "execution_count": 1,
   "id": "cf9533b1",
   "metadata": {
    "_cell_guid": "b1076dfc-b9ad-4769-8c92-a6c4dae69d19",
    "_uuid": "8f2839f25d086af736a60e9eeb907d3b93b6e0e5",
    "execution": {
     "iopub.execute_input": "2023-03-28T19:04:02.774982Z",
     "iopub.status.busy": "2023-03-28T19:04:02.773987Z",
     "iopub.status.idle": "2023-03-28T19:04:02.797755Z",
     "shell.execute_reply": "2023-03-28T19:04:02.796073Z"
    },
    "papermill": {
     "duration": 0.034904,
     "end_time": "2023-03-28T19:04:02.800736",
     "exception": false,
     "start_time": "2023-03-28T19:04:02.765832",
     "status": "completed"
    },
    "tags": []
   },
   "outputs": [
    {
     "name": "stdout",
     "output_type": "stream",
     "text": [
      "/kaggle/input/amazon-top-50-bestselling-books-2009-2019/bestsellers with categories.csv\n"
     ]
    }
   ],
   "source": [
    "# This Python 3 environment comes with many helpful analytics libraries installed\n",
    "# It is defined by the kaggle/python Docker image: https://github.com/kaggle/docker-python\n",
    "# For example, here's several helpful packages to load\n",
    "\n",
    "import numpy as np # linear algebra\n",
    "import pandas as pd # data processing, CSV file I/O (e.g. pd.read_csv)\n",
    "\n",
    "# Input data files are available in the read-only \"../input/\" directory\n",
    "# For example, running this (by clicking run or pressing Shift+Enter) will list all files under the input directory\n",
    "\n",
    "import os\n",
    "for dirname, _, filenames in os.walk('/kaggle/input'):\n",
    "    for filename in filenames:\n",
    "        print(os.path.join(dirname, filename))\n",
    "\n",
    "# You can write up to 20GB to the current directory (/kaggle/working/) that gets preserved as output when you create a version using \"Save & Run All\" \n",
    "# You can also write temporary files to /kaggle/temp/, but they won't be saved outside of the current session"
   ]
  },
  {
   "cell_type": "code",
   "execution_count": 2,
   "id": "762e637e",
   "metadata": {
    "execution": {
     "iopub.execute_input": "2023-03-28T19:04:02.812747Z",
     "iopub.status.busy": "2023-03-28T19:04:02.811834Z",
     "iopub.status.idle": "2023-03-28T19:04:02.831813Z",
     "shell.execute_reply": "2023-03-28T19:04:02.830447Z"
    },
    "papermill": {
     "duration": 0.028957,
     "end_time": "2023-03-28T19:04:02.834726",
     "exception": false,
     "start_time": "2023-03-28T19:04:02.805769",
     "status": "completed"
    },
    "tags": []
   },
   "outputs": [],
   "source": [
    "data = pd.read_csv('/kaggle/input/amazon-top-50-bestselling-books-2009-2019/bestsellers with categories.csv')"
   ]
  },
  {
   "cell_type": "code",
   "execution_count": 3,
   "id": "be902a08",
   "metadata": {
    "execution": {
     "iopub.execute_input": "2023-03-28T19:04:02.846721Z",
     "iopub.status.busy": "2023-03-28T19:04:02.845838Z",
     "iopub.status.idle": "2023-03-28T19:04:02.879429Z",
     "shell.execute_reply": "2023-03-28T19:04:02.878049Z"
    },
    "papermill": {
     "duration": 0.043375,
     "end_time": "2023-03-28T19:04:02.883016",
     "exception": false,
     "start_time": "2023-03-28T19:04:02.839641",
     "status": "completed"
    },
    "tags": []
   },
   "outputs": [
    {
     "data": {
      "text/html": [
       "<div>\n",
       "<style scoped>\n",
       "    .dataframe tbody tr th:only-of-type {\n",
       "        vertical-align: middle;\n",
       "    }\n",
       "\n",
       "    .dataframe tbody tr th {\n",
       "        vertical-align: top;\n",
       "    }\n",
       "\n",
       "    .dataframe thead th {\n",
       "        text-align: right;\n",
       "    }\n",
       "</style>\n",
       "<table border=\"1\" class=\"dataframe\">\n",
       "  <thead>\n",
       "    <tr style=\"text-align: right;\">\n",
       "      <th></th>\n",
       "      <th>Name</th>\n",
       "      <th>Author</th>\n",
       "      <th>User Rating</th>\n",
       "      <th>Reviews</th>\n",
       "      <th>Price</th>\n",
       "      <th>Year</th>\n",
       "      <th>Genre</th>\n",
       "    </tr>\n",
       "  </thead>\n",
       "  <tbody>\n",
       "    <tr>\n",
       "      <th>0</th>\n",
       "      <td>10-Day Green Smoothie Cleanse</td>\n",
       "      <td>JJ Smith</td>\n",
       "      <td>4.7</td>\n",
       "      <td>17350</td>\n",
       "      <td>8</td>\n",
       "      <td>2016</td>\n",
       "      <td>Non Fiction</td>\n",
       "    </tr>\n",
       "    <tr>\n",
       "      <th>1</th>\n",
       "      <td>11/22/63: A Novel</td>\n",
       "      <td>Stephen King</td>\n",
       "      <td>4.6</td>\n",
       "      <td>2052</td>\n",
       "      <td>22</td>\n",
       "      <td>2011</td>\n",
       "      <td>Fiction</td>\n",
       "    </tr>\n",
       "    <tr>\n",
       "      <th>2</th>\n",
       "      <td>12 Rules for Life: An Antidote to Chaos</td>\n",
       "      <td>Jordan B. Peterson</td>\n",
       "      <td>4.7</td>\n",
       "      <td>18979</td>\n",
       "      <td>15</td>\n",
       "      <td>2018</td>\n",
       "      <td>Non Fiction</td>\n",
       "    </tr>\n",
       "    <tr>\n",
       "      <th>3</th>\n",
       "      <td>1984 (Signet Classics)</td>\n",
       "      <td>George Orwell</td>\n",
       "      <td>4.7</td>\n",
       "      <td>21424</td>\n",
       "      <td>6</td>\n",
       "      <td>2017</td>\n",
       "      <td>Fiction</td>\n",
       "    </tr>\n",
       "    <tr>\n",
       "      <th>4</th>\n",
       "      <td>5,000 Awesome Facts (About Everything!) (Natio...</td>\n",
       "      <td>National Geographic Kids</td>\n",
       "      <td>4.8</td>\n",
       "      <td>7665</td>\n",
       "      <td>12</td>\n",
       "      <td>2019</td>\n",
       "      <td>Non Fiction</td>\n",
       "    </tr>\n",
       "    <tr>\n",
       "      <th>5</th>\n",
       "      <td>A Dance with Dragons (A Song of Ice and Fire)</td>\n",
       "      <td>George R. R. Martin</td>\n",
       "      <td>4.4</td>\n",
       "      <td>12643</td>\n",
       "      <td>11</td>\n",
       "      <td>2011</td>\n",
       "      <td>Fiction</td>\n",
       "    </tr>\n",
       "    <tr>\n",
       "      <th>6</th>\n",
       "      <td>A Game of Thrones / A Clash of Kings / A Storm...</td>\n",
       "      <td>George R. R. Martin</td>\n",
       "      <td>4.7</td>\n",
       "      <td>19735</td>\n",
       "      <td>30</td>\n",
       "      <td>2014</td>\n",
       "      <td>Fiction</td>\n",
       "    </tr>\n",
       "    <tr>\n",
       "      <th>7</th>\n",
       "      <td>A Gentleman in Moscow: A Novel</td>\n",
       "      <td>Amor Towles</td>\n",
       "      <td>4.7</td>\n",
       "      <td>19699</td>\n",
       "      <td>15</td>\n",
       "      <td>2017</td>\n",
       "      <td>Fiction</td>\n",
       "    </tr>\n",
       "    <tr>\n",
       "      <th>8</th>\n",
       "      <td>A Higher Loyalty: Truth, Lies, and Leadership</td>\n",
       "      <td>James Comey</td>\n",
       "      <td>4.7</td>\n",
       "      <td>5983</td>\n",
       "      <td>3</td>\n",
       "      <td>2018</td>\n",
       "      <td>Non Fiction</td>\n",
       "    </tr>\n",
       "    <tr>\n",
       "      <th>9</th>\n",
       "      <td>A Man Called Ove: A Novel</td>\n",
       "      <td>Fredrik Backman</td>\n",
       "      <td>4.6</td>\n",
       "      <td>23848</td>\n",
       "      <td>8</td>\n",
       "      <td>2016</td>\n",
       "      <td>Fiction</td>\n",
       "    </tr>\n",
       "    <tr>\n",
       "      <th>10</th>\n",
       "      <td>A Man Called Ove: A Novel</td>\n",
       "      <td>Fredrik Backman</td>\n",
       "      <td>4.6</td>\n",
       "      <td>23848</td>\n",
       "      <td>8</td>\n",
       "      <td>2017</td>\n",
       "      <td>Fiction</td>\n",
       "    </tr>\n",
       "    <tr>\n",
       "      <th>11</th>\n",
       "      <td>A Patriot's History of the United States: From...</td>\n",
       "      <td>Larry Schweikart</td>\n",
       "      <td>4.6</td>\n",
       "      <td>460</td>\n",
       "      <td>2</td>\n",
       "      <td>2010</td>\n",
       "      <td>Non Fiction</td>\n",
       "    </tr>\n",
       "    <tr>\n",
       "      <th>12</th>\n",
       "      <td>A Stolen Life: A Memoir</td>\n",
       "      <td>Jaycee Dugard</td>\n",
       "      <td>4.6</td>\n",
       "      <td>4149</td>\n",
       "      <td>32</td>\n",
       "      <td>2011</td>\n",
       "      <td>Non Fiction</td>\n",
       "    </tr>\n",
       "    <tr>\n",
       "      <th>13</th>\n",
       "      <td>A Wrinkle in Time (Time Quintet)</td>\n",
       "      <td>Madeleine L'Engle</td>\n",
       "      <td>4.5</td>\n",
       "      <td>5153</td>\n",
       "      <td>5</td>\n",
       "      <td>2018</td>\n",
       "      <td>Fiction</td>\n",
       "    </tr>\n",
       "    <tr>\n",
       "      <th>14</th>\n",
       "      <td>Act Like a Lady, Think Like a Man: What Men Re...</td>\n",
       "      <td>Steve Harvey</td>\n",
       "      <td>4.6</td>\n",
       "      <td>5013</td>\n",
       "      <td>17</td>\n",
       "      <td>2009</td>\n",
       "      <td>Non Fiction</td>\n",
       "    </tr>\n",
       "    <tr>\n",
       "      <th>15</th>\n",
       "      <td>Adult Coloring Book Designs: Stress Relief Col...</td>\n",
       "      <td>Adult Coloring Book Designs</td>\n",
       "      <td>4.5</td>\n",
       "      <td>2313</td>\n",
       "      <td>4</td>\n",
       "      <td>2016</td>\n",
       "      <td>Non Fiction</td>\n",
       "    </tr>\n",
       "    <tr>\n",
       "      <th>16</th>\n",
       "      <td>Adult Coloring Book: Stress Relieving Animal D...</td>\n",
       "      <td>Blue Star Coloring</td>\n",
       "      <td>4.6</td>\n",
       "      <td>2925</td>\n",
       "      <td>6</td>\n",
       "      <td>2015</td>\n",
       "      <td>Non Fiction</td>\n",
       "    </tr>\n",
       "    <tr>\n",
       "      <th>17</th>\n",
       "      <td>Adult Coloring Book: Stress Relieving Patterns</td>\n",
       "      <td>Blue Star Coloring</td>\n",
       "      <td>4.4</td>\n",
       "      <td>2951</td>\n",
       "      <td>6</td>\n",
       "      <td>2015</td>\n",
       "      <td>Non Fiction</td>\n",
       "    </tr>\n",
       "    <tr>\n",
       "      <th>18</th>\n",
       "      <td>Adult Coloring Books: A Coloring Book for Adul...</td>\n",
       "      <td>Coloring Books for Adults</td>\n",
       "      <td>4.5</td>\n",
       "      <td>2426</td>\n",
       "      <td>8</td>\n",
       "      <td>2015</td>\n",
       "      <td>Non Fiction</td>\n",
       "    </tr>\n",
       "    <tr>\n",
       "      <th>19</th>\n",
       "      <td>Alexander Hamilton</td>\n",
       "      <td>Ron Chernow</td>\n",
       "      <td>4.8</td>\n",
       "      <td>9198</td>\n",
       "      <td>13</td>\n",
       "      <td>2016</td>\n",
       "      <td>Non Fiction</td>\n",
       "    </tr>\n",
       "  </tbody>\n",
       "</table>\n",
       "</div>"
      ],
      "text/plain": [
       "                                                 Name  \\\n",
       "0                       10-Day Green Smoothie Cleanse   \n",
       "1                                   11/22/63: A Novel   \n",
       "2             12 Rules for Life: An Antidote to Chaos   \n",
       "3                              1984 (Signet Classics)   \n",
       "4   5,000 Awesome Facts (About Everything!) (Natio...   \n",
       "5       A Dance with Dragons (A Song of Ice and Fire)   \n",
       "6   A Game of Thrones / A Clash of Kings / A Storm...   \n",
       "7                      A Gentleman in Moscow: A Novel   \n",
       "8       A Higher Loyalty: Truth, Lies, and Leadership   \n",
       "9                           A Man Called Ove: A Novel   \n",
       "10                          A Man Called Ove: A Novel   \n",
       "11  A Patriot's History of the United States: From...   \n",
       "12                            A Stolen Life: A Memoir   \n",
       "13                   A Wrinkle in Time (Time Quintet)   \n",
       "14  Act Like a Lady, Think Like a Man: What Men Re...   \n",
       "15  Adult Coloring Book Designs: Stress Relief Col...   \n",
       "16  Adult Coloring Book: Stress Relieving Animal D...   \n",
       "17     Adult Coloring Book: Stress Relieving Patterns   \n",
       "18  Adult Coloring Books: A Coloring Book for Adul...   \n",
       "19                                 Alexander Hamilton   \n",
       "\n",
       "                         Author  User Rating  Reviews  Price  Year  \\\n",
       "0                      JJ Smith          4.7    17350      8  2016   \n",
       "1                  Stephen King          4.6     2052     22  2011   \n",
       "2            Jordan B. Peterson          4.7    18979     15  2018   \n",
       "3                 George Orwell          4.7    21424      6  2017   \n",
       "4      National Geographic Kids          4.8     7665     12  2019   \n",
       "5           George R. R. Martin          4.4    12643     11  2011   \n",
       "6           George R. R. Martin          4.7    19735     30  2014   \n",
       "7                   Amor Towles          4.7    19699     15  2017   \n",
       "8                   James Comey          4.7     5983      3  2018   \n",
       "9               Fredrik Backman          4.6    23848      8  2016   \n",
       "10              Fredrik Backman          4.6    23848      8  2017   \n",
       "11             Larry Schweikart          4.6      460      2  2010   \n",
       "12                Jaycee Dugard          4.6     4149     32  2011   \n",
       "13            Madeleine L'Engle          4.5     5153      5  2018   \n",
       "14                 Steve Harvey          4.6     5013     17  2009   \n",
       "15  Adult Coloring Book Designs          4.5     2313      4  2016   \n",
       "16           Blue Star Coloring          4.6     2925      6  2015   \n",
       "17           Blue Star Coloring          4.4     2951      6  2015   \n",
       "18    Coloring Books for Adults          4.5     2426      8  2015   \n",
       "19                  Ron Chernow          4.8     9198     13  2016   \n",
       "\n",
       "          Genre  \n",
       "0   Non Fiction  \n",
       "1       Fiction  \n",
       "2   Non Fiction  \n",
       "3       Fiction  \n",
       "4   Non Fiction  \n",
       "5       Fiction  \n",
       "6       Fiction  \n",
       "7       Fiction  \n",
       "8   Non Fiction  \n",
       "9       Fiction  \n",
       "10      Fiction  \n",
       "11  Non Fiction  \n",
       "12  Non Fiction  \n",
       "13      Fiction  \n",
       "14  Non Fiction  \n",
       "15  Non Fiction  \n",
       "16  Non Fiction  \n",
       "17  Non Fiction  \n",
       "18  Non Fiction  \n",
       "19  Non Fiction  "
      ]
     },
     "execution_count": 3,
     "metadata": {},
     "output_type": "execute_result"
    }
   ],
   "source": [
    "data.head(20)"
   ]
  },
  {
   "cell_type": "code",
   "execution_count": 4,
   "id": "4c028c10",
   "metadata": {
    "execution": {
     "iopub.execute_input": "2023-03-28T19:04:02.895750Z",
     "iopub.status.busy": "2023-03-28T19:04:02.894970Z",
     "iopub.status.idle": "2023-03-28T19:04:02.919878Z",
     "shell.execute_reply": "2023-03-28T19:04:02.917877Z"
    },
    "papermill": {
     "duration": 0.034611,
     "end_time": "2023-03-28T19:04:02.922829",
     "exception": false,
     "start_time": "2023-03-28T19:04:02.888218",
     "status": "completed"
    },
    "tags": []
   },
   "outputs": [
    {
     "name": "stdout",
     "output_type": "stream",
     "text": [
      "<class 'pandas.core.frame.DataFrame'>\n",
      "RangeIndex: 550 entries, 0 to 549\n",
      "Data columns (total 7 columns):\n",
      " #   Column       Non-Null Count  Dtype  \n",
      "---  ------       --------------  -----  \n",
      " 0   Name         550 non-null    object \n",
      " 1   Author       550 non-null    object \n",
      " 2   User Rating  550 non-null    float64\n",
      " 3   Reviews      550 non-null    int64  \n",
      " 4   Price        550 non-null    int64  \n",
      " 5   Year         550 non-null    int64  \n",
      " 6   Genre        550 non-null    object \n",
      "dtypes: float64(1), int64(3), object(3)\n",
      "memory usage: 30.2+ KB\n"
     ]
    }
   ],
   "source": [
    "data.info()"
   ]
  },
  {
   "cell_type": "code",
   "execution_count": 5,
   "id": "9e965e3c",
   "metadata": {
    "execution": {
     "iopub.execute_input": "2023-03-28T19:04:02.935910Z",
     "iopub.status.busy": "2023-03-28T19:04:02.935419Z",
     "iopub.status.idle": "2023-03-28T19:04:02.947827Z",
     "shell.execute_reply": "2023-03-28T19:04:02.946538Z"
    },
    "papermill": {
     "duration": 0.021954,
     "end_time": "2023-03-28T19:04:02.950377",
     "exception": false,
     "start_time": "2023-03-28T19:04:02.928423",
     "status": "completed"
    },
    "tags": []
   },
   "outputs": [
    {
     "name": "stdout",
     "output_type": "stream",
     "text": [
      "Checking for Null Values\n"
     ]
    },
    {
     "data": {
      "text/plain": [
       "Name           0\n",
       "Author         0\n",
       "User Rating    0\n",
       "Reviews        0\n",
       "Price          0\n",
       "Year           0\n",
       "Genre          0\n",
       "dtype: int64"
      ]
     },
     "execution_count": 5,
     "metadata": {},
     "output_type": "execute_result"
    }
   ],
   "source": [
    "print('Checking for Null Values')\n",
    "data.isna().sum()"
   ]
  },
  {
   "cell_type": "markdown",
   "id": "a8fb5c33",
   "metadata": {
    "papermill": {
     "duration": 0.005224,
     "end_time": "2023-03-28T19:04:02.961163",
     "exception": false,
     "start_time": "2023-03-28T19:04:02.955939",
     "status": "completed"
    },
    "tags": []
   },
   "source": [
    "In the data we see that there are multiple entries for a book with different editions. Let's keep only the latest ones."
   ]
  },
  {
   "cell_type": "code",
   "execution_count": 6,
   "id": "ccac379f",
   "metadata": {
    "execution": {
     "iopub.execute_input": "2023-03-28T19:04:02.974064Z",
     "iopub.status.busy": "2023-03-28T19:04:02.973602Z",
     "iopub.status.idle": "2023-03-28T19:04:02.982240Z",
     "shell.execute_reply": "2023-03-28T19:04:02.981133Z"
    },
    "papermill": {
     "duration": 0.017682,
     "end_time": "2023-03-28T19:04:02.984420",
     "exception": false,
     "start_time": "2023-03-28T19:04:02.966738",
     "status": "completed"
    },
    "tags": []
   },
   "outputs": [],
   "source": [
    "data.drop_duplicates(subset=['Name'], keep='last', inplace=True)"
   ]
  },
  {
   "cell_type": "markdown",
   "id": "35631ac1",
   "metadata": {
    "papermill": {
     "duration": 0.005248,
     "end_time": "2023-03-28T19:04:02.995197",
     "exception": false,
     "start_time": "2023-03-28T19:04:02.989949",
     "status": "completed"
    },
    "tags": []
   },
   "source": [
    "Things we want to check on this dataset right off the bat:\n",
    "1. What Genre of books are available? What is the percent of each genre that's being sold?\n",
    "2. Top 10 Authors with respect to user ratings\n",
    "3. Most Expensive books available.\n",
    "4. Top 10 books with respect to user ratings"
   ]
  },
  {
   "cell_type": "code",
   "execution_count": 7,
   "id": "c20d0191",
   "metadata": {
    "execution": {
     "iopub.execute_input": "2023-03-28T19:04:03.008743Z",
     "iopub.status.busy": "2023-03-28T19:04:03.007930Z",
     "iopub.status.idle": "2023-03-28T19:04:03.020328Z",
     "shell.execute_reply": "2023-03-28T19:04:03.018561Z"
    },
    "papermill": {
     "duration": 0.02258,
     "end_time": "2023-03-28T19:04:03.023379",
     "exception": false,
     "start_time": "2023-03-28T19:04:03.000799",
     "status": "completed"
    },
    "tags": []
   },
   "outputs": [
    {
     "name": "stdout",
     "output_type": "stream",
     "text": [
      "Genre of Books\n",
      "['Non Fiction' 'Fiction']\n",
      "Genre\n",
      "Fiction        160\n",
      "Non Fiction    191\n",
      "Name: Name, dtype: int64\n"
     ]
    }
   ],
   "source": [
    "print('Genre of Books')\n",
    "print(data['Genre'].unique())\n",
    "print(data.groupby('Genre').count()['Name'])"
   ]
  },
  {
   "cell_type": "code",
   "execution_count": 8,
   "id": "aceace93",
   "metadata": {
    "execution": {
     "iopub.execute_input": "2023-03-28T19:04:03.036526Z",
     "iopub.status.busy": "2023-03-28T19:04:03.036082Z",
     "iopub.status.idle": "2023-03-28T19:04:03.048506Z",
     "shell.execute_reply": "2023-03-28T19:04:03.046792Z"
    },
    "papermill": {
     "duration": 0.02212,
     "end_time": "2023-03-28T19:04:03.051125",
     "exception": false,
     "start_time": "2023-03-28T19:04:03.029005",
     "status": "completed"
    },
    "tags": []
   },
   "outputs": [
    {
     "name": "stdout",
     "output_type": "stream",
     "text": [
      "Percentage of Genre\n"
     ]
    }
   ],
   "source": [
    "print('Percentage of Genre')\n",
    "genre_group = data.groupby('Genre').count()['Name'].reset_index()\n",
    "genre_group['%age'] = [(i/genre_group[\"Name\"].sum())*100 for i in genre_group['Name']]"
   ]
  },
  {
   "cell_type": "code",
   "execution_count": 9,
   "id": "30b1ed1a",
   "metadata": {
    "execution": {
     "iopub.execute_input": "2023-03-28T19:04:03.064292Z",
     "iopub.status.busy": "2023-03-28T19:04:03.063548Z",
     "iopub.status.idle": "2023-03-28T19:04:03.075766Z",
     "shell.execute_reply": "2023-03-28T19:04:03.074536Z"
    },
    "papermill": {
     "duration": 0.021587,
     "end_time": "2023-03-28T19:04:03.078318",
     "exception": false,
     "start_time": "2023-03-28T19:04:03.056731",
     "status": "completed"
    },
    "tags": []
   },
   "outputs": [
    {
     "data": {
      "text/html": [
       "<div>\n",
       "<style scoped>\n",
       "    .dataframe tbody tr th:only-of-type {\n",
       "        vertical-align: middle;\n",
       "    }\n",
       "\n",
       "    .dataframe tbody tr th {\n",
       "        vertical-align: top;\n",
       "    }\n",
       "\n",
       "    .dataframe thead th {\n",
       "        text-align: right;\n",
       "    }\n",
       "</style>\n",
       "<table border=\"1\" class=\"dataframe\">\n",
       "  <thead>\n",
       "    <tr style=\"text-align: right;\">\n",
       "      <th></th>\n",
       "      <th>Genre</th>\n",
       "      <th>Name</th>\n",
       "      <th>%age</th>\n",
       "    </tr>\n",
       "  </thead>\n",
       "  <tbody>\n",
       "    <tr>\n",
       "      <th>0</th>\n",
       "      <td>Fiction</td>\n",
       "      <td>160</td>\n",
       "      <td>45.584046</td>\n",
       "    </tr>\n",
       "    <tr>\n",
       "      <th>1</th>\n",
       "      <td>Non Fiction</td>\n",
       "      <td>191</td>\n",
       "      <td>54.415954</td>\n",
       "    </tr>\n",
       "  </tbody>\n",
       "</table>\n",
       "</div>"
      ],
      "text/plain": [
       "         Genre  Name       %age\n",
       "0      Fiction   160  45.584046\n",
       "1  Non Fiction   191  54.415954"
      ]
     },
     "execution_count": 9,
     "metadata": {},
     "output_type": "execute_result"
    }
   ],
   "source": [
    "genre_group"
   ]
  },
  {
   "cell_type": "code",
   "execution_count": 10,
   "id": "a5a3dc4f",
   "metadata": {
    "execution": {
     "iopub.execute_input": "2023-03-28T19:04:03.092001Z",
     "iopub.status.busy": "2023-03-28T19:04:03.091560Z",
     "iopub.status.idle": "2023-03-28T19:04:03.113255Z",
     "shell.execute_reply": "2023-03-28T19:04:03.111323Z"
    },
    "papermill": {
     "duration": 0.032228,
     "end_time": "2023-03-28T19:04:03.116319",
     "exception": false,
     "start_time": "2023-03-28T19:04:03.084091",
     "status": "completed"
    },
    "tags": []
   },
   "outputs": [
    {
     "name": "stdout",
     "output_type": "stream",
     "text": [
      "Look for Top 10 Authors\n"
     ]
    },
    {
     "data": {
      "text/html": [
       "<div>\n",
       "<style scoped>\n",
       "    .dataframe tbody tr th:only-of-type {\n",
       "        vertical-align: middle;\n",
       "    }\n",
       "\n",
       "    .dataframe tbody tr th {\n",
       "        vertical-align: top;\n",
       "    }\n",
       "\n",
       "    .dataframe thead th {\n",
       "        text-align: right;\n",
       "    }\n",
       "</style>\n",
       "<table border=\"1\" class=\"dataframe\">\n",
       "  <thead>\n",
       "    <tr style=\"text-align: right;\">\n",
       "      <th></th>\n",
       "      <th>Name</th>\n",
       "      <th>Author</th>\n",
       "      <th>User Rating</th>\n",
       "      <th>Reviews</th>\n",
       "      <th>Price</th>\n",
       "      <th>Year</th>\n",
       "      <th>Genre</th>\n",
       "    </tr>\n",
       "  </thead>\n",
       "  <tbody>\n",
       "    <tr>\n",
       "      <th>82</th>\n",
       "      <td>Dog Man: A Tale of Two Kitties: From the Creat...</td>\n",
       "      <td>Dav Pilkey</td>\n",
       "      <td>4.9</td>\n",
       "      <td>4786</td>\n",
       "      <td>8</td>\n",
       "      <td>2017</td>\n",
       "      <td>Fiction</td>\n",
       "    </tr>\n",
       "    <tr>\n",
       "      <th>174</th>\n",
       "      <td>Humans of New York : Stories</td>\n",
       "      <td>Brandon Stanton</td>\n",
       "      <td>4.9</td>\n",
       "      <td>2812</td>\n",
       "      <td>17</td>\n",
       "      <td>2015</td>\n",
       "      <td>Non Fiction</td>\n",
       "    </tr>\n",
       "    <tr>\n",
       "      <th>147</th>\n",
       "      <td>Goodnight, Goodnight Construction Site (Hardco...</td>\n",
       "      <td>Sherri Duskey Rinker</td>\n",
       "      <td>4.9</td>\n",
       "      <td>7038</td>\n",
       "      <td>7</td>\n",
       "      <td>2013</td>\n",
       "      <td>Fiction</td>\n",
       "    </tr>\n",
       "    <tr>\n",
       "      <th>289</th>\n",
       "      <td>Rush Revere and the First Patriots: Time-Trave...</td>\n",
       "      <td>Rush Limbaugh</td>\n",
       "      <td>4.9</td>\n",
       "      <td>3836</td>\n",
       "      <td>12</td>\n",
       "      <td>2014</td>\n",
       "      <td>Fiction</td>\n",
       "    </tr>\n",
       "    <tr>\n",
       "      <th>41</th>\n",
       "      <td>Brown Bear, Brown Bear, What Do You See?</td>\n",
       "      <td>Bill Martin Jr.</td>\n",
       "      <td>4.9</td>\n",
       "      <td>14344</td>\n",
       "      <td>5</td>\n",
       "      <td>2019</td>\n",
       "      <td>Fiction</td>\n",
       "    </tr>\n",
       "    <tr>\n",
       "      <th>...</th>\n",
       "      <td>...</td>\n",
       "      <td>...</td>\n",
       "      <td>...</td>\n",
       "      <td>...</td>\n",
       "      <td>...</td>\n",
       "      <td>...</td>\n",
       "      <td>...</td>\n",
       "    </tr>\n",
       "    <tr>\n",
       "      <th>393</th>\n",
       "      <td>The Goldfinch: A Novel (Pulitzer Prize for Fic...</td>\n",
       "      <td>Donna Tartt</td>\n",
       "      <td>3.9</td>\n",
       "      <td>33844</td>\n",
       "      <td>20</td>\n",
       "      <td>2014</td>\n",
       "      <td>Fiction</td>\n",
       "    </tr>\n",
       "    <tr>\n",
       "      <th>22</th>\n",
       "      <td>Allegiant</td>\n",
       "      <td>Veronica Roth</td>\n",
       "      <td>3.9</td>\n",
       "      <td>6310</td>\n",
       "      <td>13</td>\n",
       "      <td>2013</td>\n",
       "      <td>Fiction</td>\n",
       "    </tr>\n",
       "    <tr>\n",
       "      <th>107</th>\n",
       "      <td>Fifty Shades of Grey: Book One of the Fifty Sh...</td>\n",
       "      <td>E L James</td>\n",
       "      <td>3.8</td>\n",
       "      <td>47265</td>\n",
       "      <td>14</td>\n",
       "      <td>2013</td>\n",
       "      <td>Fiction</td>\n",
       "    </tr>\n",
       "    <tr>\n",
       "      <th>132</th>\n",
       "      <td>Go Set a Watchman: A Novel</td>\n",
       "      <td>Harper Lee</td>\n",
       "      <td>3.6</td>\n",
       "      <td>14982</td>\n",
       "      <td>19</td>\n",
       "      <td>2015</td>\n",
       "      <td>Fiction</td>\n",
       "    </tr>\n",
       "    <tr>\n",
       "      <th>353</th>\n",
       "      <td>The Casual Vacancy</td>\n",
       "      <td>J.K. Rowling</td>\n",
       "      <td>3.3</td>\n",
       "      <td>9372</td>\n",
       "      <td>12</td>\n",
       "      <td>2012</td>\n",
       "      <td>Fiction</td>\n",
       "    </tr>\n",
       "  </tbody>\n",
       "</table>\n",
       "<p>351 rows × 7 columns</p>\n",
       "</div>"
      ],
      "text/plain": [
       "                                                  Name                Author  \\\n",
       "82   Dog Man: A Tale of Two Kitties: From the Creat...            Dav Pilkey   \n",
       "174                       Humans of New York : Stories       Brandon Stanton   \n",
       "147  Goodnight, Goodnight Construction Site (Hardco...  Sherri Duskey Rinker   \n",
       "289  Rush Revere and the First Patriots: Time-Trave...         Rush Limbaugh   \n",
       "41            Brown Bear, Brown Bear, What Do You See?       Bill Martin Jr.   \n",
       "..                                                 ...                   ...   \n",
       "393  The Goldfinch: A Novel (Pulitzer Prize for Fic...           Donna Tartt   \n",
       "22                                           Allegiant         Veronica Roth   \n",
       "107  Fifty Shades of Grey: Book One of the Fifty Sh...             E L James   \n",
       "132                         Go Set a Watchman: A Novel            Harper Lee   \n",
       "353                                 The Casual Vacancy          J.K. Rowling   \n",
       "\n",
       "     User Rating  Reviews  Price  Year        Genre  \n",
       "82           4.9     4786      8  2017      Fiction  \n",
       "174          4.9     2812     17  2015  Non Fiction  \n",
       "147          4.9     7038      7  2013      Fiction  \n",
       "289          4.9     3836     12  2014      Fiction  \n",
       "41           4.9    14344      5  2019      Fiction  \n",
       "..           ...      ...    ...   ...          ...  \n",
       "393          3.9    33844     20  2014      Fiction  \n",
       "22           3.9     6310     13  2013      Fiction  \n",
       "107          3.8    47265     14  2013      Fiction  \n",
       "132          3.6    14982     19  2015      Fiction  \n",
       "353          3.3     9372     12  2012      Fiction  \n",
       "\n",
       "[351 rows x 7 columns]"
      ]
     },
     "execution_count": 10,
     "metadata": {},
     "output_type": "execute_result"
    }
   ],
   "source": [
    "print('Look for Top 10 Authors')\n",
    "data.sort_values(by='User Rating', ascending=False)"
   ]
  },
  {
   "cell_type": "code",
   "execution_count": 11,
   "id": "5394b256",
   "metadata": {
    "execution": {
     "iopub.execute_input": "2023-03-28T19:04:03.131358Z",
     "iopub.status.busy": "2023-03-28T19:04:03.130937Z",
     "iopub.status.idle": "2023-03-28T19:04:03.139604Z",
     "shell.execute_reply": "2023-03-28T19:04:03.138509Z"
    },
    "papermill": {
     "duration": 0.019477,
     "end_time": "2023-03-28T19:04:03.142329",
     "exception": false,
     "start_time": "2023-03-28T19:04:03.122852",
     "status": "completed"
    },
    "tags": []
   },
   "outputs": [],
   "source": [
    "author_rank = data.groupby('Author').mean()['User Rating'].sort_values(ascending=False)"
   ]
  },
  {
   "cell_type": "code",
   "execution_count": 12,
   "id": "84a42f90",
   "metadata": {
    "execution": {
     "iopub.execute_input": "2023-03-28T19:04:03.156714Z",
     "iopub.status.busy": "2023-03-28T19:04:03.156254Z",
     "iopub.status.idle": "2023-03-28T19:04:03.164646Z",
     "shell.execute_reply": "2023-03-28T19:04:03.162505Z"
    },
    "papermill": {
     "duration": 0.019058,
     "end_time": "2023-03-28T19:04:03.167584",
     "exception": false,
     "start_time": "2023-03-28T19:04:03.148526",
     "status": "completed"
    },
    "tags": []
   },
   "outputs": [
    {
     "name": "stdout",
     "output_type": "stream",
     "text": [
      "Top 10 OGs Author\n",
      "Patrick Thorpe          4.9\n",
      "Alice Schertle          4.9\n",
      "Dav Pilkey              4.9\n",
      "Pete Souza              4.9\n",
      "Lin-Manuel Miranda      4.9\n",
      "Rush Limbaugh           4.9\n",
      "Sarah Young             4.9\n",
      "Jill Twiss              4.9\n",
      "Nathan W. Pyle          4.9\n",
      "Sherri Duskey Rinker    4.9\n",
      "Name: User Rating, dtype: float64\n"
     ]
    }
   ],
   "source": [
    "print(f'Top 10 OGs {author_rank[0:10]}')"
   ]
  },
  {
   "cell_type": "code",
   "execution_count": 13,
   "id": "473abb27",
   "metadata": {
    "execution": {
     "iopub.execute_input": "2023-03-28T19:04:03.184448Z",
     "iopub.status.busy": "2023-03-28T19:04:03.183868Z",
     "iopub.status.idle": "2023-03-28T19:04:03.196373Z",
     "shell.execute_reply": "2023-03-28T19:04:03.195013Z"
    },
    "papermill": {
     "duration": 0.02587,
     "end_time": "2023-03-28T19:04:03.199846",
     "exception": false,
     "start_time": "2023-03-28T19:04:03.173976",
     "status": "completed"
    },
    "tags": []
   },
   "outputs": [
    {
     "name": "stdout",
     "output_type": "stream",
     "text": [
      "Top 10 Expensive books\n",
      "                                                  Name  Price\n",
      "70   Diagnostic and Statistical Manual of Mental Di...    105\n",
      "473                       The Twilight Saga Collection     82\n",
      "151                           Hamilton: The Revolution     54\n",
      "346  The Book of Basketball: The NBA According to T...     53\n",
      "159         Harry Potter Paperback Box Set (Books 1-7)     52\n",
      "280  Publication Manual of the American Psychologic...     46\n",
      "524                                           Watchmen     42\n",
      "443                       The Official SAT Study Guide     40\n",
      "338                                      The Alchemist     39\n",
      "444  The Official SAT Study Guide, 2016 Edition (Of...     36\n"
     ]
    }
   ],
   "source": [
    "print('Top 10 Expensive books')\n",
    "print(data.sort_values(by='Price', ascending=False)[['Name','Price']][0:10])"
   ]
  },
  {
   "cell_type": "code",
   "execution_count": 14,
   "id": "b230db62",
   "metadata": {
    "execution": {
     "iopub.execute_input": "2023-03-28T19:04:03.221080Z",
     "iopub.status.busy": "2023-03-28T19:04:03.220451Z",
     "iopub.status.idle": "2023-03-28T19:04:03.238840Z",
     "shell.execute_reply": "2023-03-28T19:04:03.237589Z"
    },
    "papermill": {
     "duration": 0.033178,
     "end_time": "2023-03-28T19:04:03.242398",
     "exception": false,
     "start_time": "2023-03-28T19:04:03.209220",
     "status": "completed"
    },
    "tags": []
   },
   "outputs": [
    {
     "name": "stdout",
     "output_type": "stream",
     "text": [
      "Top 10 Books as per rating Name\n",
      "Humans of New York : Stories                                                                       4.9\n",
      "Goodnight, Goodnight Construction Site (Hardcover Books for Toddlers, Preschool Books for Kids)    4.9\n",
      "Rush Revere and the First Patriots: Time-Travel Adventures With Exceptional Americans (2)          4.9\n",
      "Brown Bear, Brown Bear, What Do You See?                                                           4.9\n",
      "Hamilton: The Revolution                                                                           4.9\n",
      "Dog Man: Brawl of the Wild: From the Creator of Captain Underpants (Dog Man #6)                    4.9\n",
      "Rush Revere and the Brave Pilgrims: Time-Travel Adventures with Exceptional Americans (1)          4.9\n",
      "Harry Potter and the Chamber of Secrets: The Illustrated Edition (Harry Potter, Book 2)            4.9\n",
      "Harry Potter and the Goblet of Fire: The Illustrated Edition (Harry Potter, Book 4) (4)            4.9\n",
      "Name: User Rating, dtype: float64\n"
     ]
    }
   ],
   "source": [
    "print(f'Top 10 Books as per rating {data.groupby(\"Name\").mean()[\"User Rating\"].sort_values(ascending=False)[1:10]}')"
   ]
  },
  {
   "cell_type": "code",
   "execution_count": null,
   "id": "b7a71ff4",
   "metadata": {
    "papermill": {
     "duration": 0.006089,
     "end_time": "2023-03-28T19:04:03.257506",
     "exception": false,
     "start_time": "2023-03-28T19:04:03.251417",
     "status": "completed"
    },
    "tags": []
   },
   "outputs": [],
   "source": []
  }
 ],
 "metadata": {
  "kernelspec": {
   "display_name": "Python 3",
   "language": "python",
   "name": "python3"
  },
  "language_info": {
   "codemirror_mode": {
    "name": "ipython",
    "version": 3
   },
   "file_extension": ".py",
   "mimetype": "text/x-python",
   "name": "python",
   "nbconvert_exporter": "python",
   "pygments_lexer": "ipython3",
   "version": "3.7.12"
  },
  "papermill": {
   "default_parameters": {},
   "duration": 11.487464,
   "end_time": "2023-03-28T19:04:03.989088",
   "environment_variables": {},
   "exception": null,
   "input_path": "__notebook__.ipynb",
   "output_path": "__notebook__.ipynb",
   "parameters": {},
   "start_time": "2023-03-28T19:03:52.501624",
   "version": "2.4.0"
  }
 },
 "nbformat": 4,
 "nbformat_minor": 5
}
